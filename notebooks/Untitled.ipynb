{
 "cells": [
  {
   "cell_type": "code",
   "execution_count": 1,
   "metadata": {},
   "outputs": [],
   "source": [
    "from ipysplitpanes import Splitpanes, Pane"
   ]
  },
  {
   "cell_type": "code",
   "execution_count": 2,
   "metadata": {},
   "outputs": [],
   "source": [
    "import ipyvuetify as v"
   ]
  },
  {
   "cell_type": "code",
   "execution_count": 18,
   "metadata": {},
   "outputs": [
    {
     "data": {
      "text/html": [
       "<style>\n",
       ".splitpanes {\n",
       "  .splitpanes__pane {\n",
       "    box-shadow: 0 0 3px rgba(0, 0, 0, .2) inset;\n",
       "    justify-content: center;\n",
       "    align-items: center;\n",
       "    display: flex;\n",
       "    position: relative;\n",
       "  }\n",
       "}\n",
       "\n",
       ".splitpanes span {\n",
       "  font-family: Helvetica, Arial, sans-serif;\n",
       "  color: #fff;\n",
       "  opacity: 0.7;\n",
       "}\n",
       "\n",
       "em.specs {\n",
       "  font-size: 0.2em;\n",
       "  line-height: 1;\n",
       "  position: absolute;\n",
       "  color: #bbb;\n",
       "  bottom: 0.5em;\n",
       "  left: 0;\n",
       "  right: 0;\n",
       "  text-align: center;\n",
       "}\n",
       "</style>\n"
      ],
      "text/plain": [
       "<IPython.core.display.HTML object>"
      ]
     },
     "metadata": {},
     "output_type": "display_data"
    }
   ],
   "source": [
    "%%html\n",
    "<style>\n",
    ".splitpanes {\n",
    "  .splitpanes__pane {\n",
    "    box-shadow: 0 0 3px rgba(0, 0, 0, .2) inset;\n",
    "    justify-content: center;\n",
    "    align-items: center;\n",
    "    display: flex;\n",
    "    position: relative;\n",
    "  }\n",
    "}\n",
    "\n",
    ".splitpanes span {\n",
    "  font-family: Helvetica, Arial, sans-serif;\n",
    "  color: #fff;\n",
    "  opacity: 0.7;\n",
    "}\n",
    "\n",
    "em.specs {\n",
    "  font-size: 0.2em;\n",
    "  line-height: 1;\n",
    "  position: absolute;\n",
    "  color: #bbb;\n",
    "  bottom: 0.5em;\n",
    "  left: 0;\n",
    "  right: 0;\n",
    "  text-align: center;\n",
    "}\n",
    "</style>"
   ]
  },
  {
   "cell_type": "code",
   "execution_count": 4,
   "metadata": {},
   "outputs": [],
   "source": [
    "sp = Splitpanes(horizontal=False, children=[Pane(children=[\"1\"], size=100), Pane(children=[\"2\"], size=50)])\n",
    "card = v.Card(children=[sp])"
   ]
  },
  {
   "cell_type": "code",
   "execution_count": 5,
   "metadata": {},
   "outputs": [
    {
     "data": {
      "application/vnd.jupyter.widget-view+json": {
       "model_id": "897ab0a012e24d90ab6996b0923244ce",
       "version_major": 2,
       "version_minor": 0
      },
      "text/plain": [
       "Card(children=[Splitpanes(children=[Pane(children=['1'], size=100.0), Pane(children=['2'], size=50.0)])])"
      ]
     },
     "metadata": {},
     "output_type": "display_data"
    }
   ],
   "source": [
    "card"
   ]
  },
  {
   "cell_type": "code",
   "execution_count": null,
   "metadata": {},
   "outputs": [],
   "source": []
  }
 ],
 "metadata": {
  "kernelspec": {
   "display_name": "Python 3",
   "language": "python",
   "name": "python3"
  },
  "language_info": {
   "codemirror_mode": {
    "name": "ipython",
    "version": 3
   },
   "file_extension": ".py",
   "mimetype": "text/x-python",
   "name": "python",
   "nbconvert_exporter": "python",
   "pygments_lexer": "ipython3",
   "version": "3.7.5"
  }
 },
 "nbformat": 4,
 "nbformat_minor": 2
}
